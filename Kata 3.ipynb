{
 "cells": [
  {
   "cell_type": "markdown",
   "metadata": {},
   "source": [
    "Kata 3"
   ]
  },
  {
   "cell_type": "code",
   "execution_count": 16,
   "metadata": {},
   "outputs": [
    {
     "name": "stdout",
     "output_type": "stream",
     "text": [
      "¡Peligro! Un asteroide se acerca rapidamente.\n"
     ]
    }
   ],
   "source": [
    "asteroide = 49 \n",
    "if asteroide > 25:\n",
    "    print (\"¡Peligro!\" \" Un asteroide se acerca rapidamente.\")\n",
    "else: \n",
    " print(\"Todo esta bien\")"
   ]
  },
  {
   "cell_type": "code",
   "execution_count": 1,
   "metadata": {},
   "outputs": [
    {
     "name": "stdout",
     "output_type": "stream",
     "text": [
      "No hay nada que ver\n"
     ]
    }
   ],
   "source": [
    "asteroide = 19\n",
    "if asteroide > 20:\n",
    "    print(\"¡Mira!\" \" hay una luz en el cielo\")\n",
    "elif asteroide < 20:\n",
    "    print(\"No hay nada que ver\")\n",
    "else:\n",
    "    print(\"¡Mira!\" \" hay una luz en el cielo\")\n"
   ]
  },
  {
   "cell_type": "code",
   "execution_count": 8,
   "metadata": {},
   "outputs": [
    {
     "name": "stdout",
     "output_type": "stream",
     "text": [
      "¡Mira! Hay una luz en el cielo\n"
     ]
    }
   ],
   "source": [
    "Tamaño_asteroide= 30\n",
    "Velocidad_asteroide=25\n",
    "if Tamaño_asteroide> 25 and Velocidad_asteroide > 25:\n",
    "    print(\"¡Advertencia!\" \" Un asteroide peligroso se dirige a la tierra\")\n",
    "elif Tamaño_asteroide < 25:\n",
    "    print(\"No hay nada que ver aqui\")\n",
    "elif Velocidad_asteroide >= 20:\n",
    "    print(\"¡Mira!\" \" Hay una luz en el cielo\")\n",
    "else:\n",
    "    print(\"Todo esta bien\")\n"
   ]
  }
 ],
 "metadata": {
  "interpreter": {
   "hash": "7ffd835ae3eeb510ed33d11ea6515afca547441c2ab8256e435875ea160299a1"
  },
  "kernelspec": {
   "display_name": "Python 3.10.2 64-bit",
   "language": "python",
   "name": "python3"
  },
  "language_info": {
   "codemirror_mode": {
    "name": "ipython",
    "version": 3
   },
   "file_extension": ".py",
   "mimetype": "text/x-python",
   "name": "python",
   "nbconvert_exporter": "python",
   "pygments_lexer": "ipython3",
   "version": "3.10.2"
  },
  "orig_nbformat": 4
 },
 "nbformat": 4,
 "nbformat_minor": 2
}
